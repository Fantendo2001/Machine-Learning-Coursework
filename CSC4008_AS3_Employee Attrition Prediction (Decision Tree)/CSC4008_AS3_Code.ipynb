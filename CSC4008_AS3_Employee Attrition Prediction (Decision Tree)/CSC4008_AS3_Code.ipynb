{
 "cells": [
  {
   "cell_type": "markdown",
   "metadata": {},
   "source": [
    "# CSC4008 Assignment 3\n",
    "### Jiang Jingxin 117020119\n",
    "## Decision Tree (Weka)"
   ]
  },
  {
   "cell_type": "code",
   "execution_count": 1,
   "metadata": {},
   "outputs": [
    {
     "name": "stderr",
     "output_type": "stream",
     "text": [
      "DEBUG:weka.core.jvm:Adding bundled jars\n",
      "DEBUG:weka.core.jvm:Classpath=['/Users/Jingxin/.pyenv/versions/3.6.10/envs/virtual/lib/python3.6/site-packages/javabridge/jars/rhino-1.7R4.jar', '/Users/Jingxin/.pyenv/versions/3.6.10/envs/virtual/lib/python3.6/site-packages/javabridge/jars/runnablequeue.jar', '/Users/Jingxin/.pyenv/versions/3.6.10/envs/virtual/lib/python3.6/site-packages/javabridge/jars/cpython.jar', '/Users/Jingxin/.pyenv/versions/3.6.10/envs/virtual/lib/python3.6/site-packages/weka/lib/python-weka-wrapper.jar', '/Users/Jingxin/.pyenv/versions/3.6.10/envs/virtual/lib/python3.6/site-packages/weka/lib/weka.jar']\n",
      "DEBUG:weka.core.jvm:MaxHeapSize=default\n",
      "DEBUG:weka.core.jvm:Package support disabled\n"
     ]
    }
   ],
   "source": [
    "import numpy as np\n",
    "import weka.core.jvm as jvm\n",
    "jvm.start()"
   ]
  },
  {
   "cell_type": "markdown",
   "metadata": {},
   "source": [
    "## \\#Problem 1 `weather.nomial.arff`"
   ]
  },
  {
   "cell_type": "code",
   "execution_count": 2,
   "metadata": {},
   "outputs": [],
   "source": [
    "from weka.core.converters import Loader\n",
    "loader = Loader(classname=\"weka.core.converters.ArffLoader\")\n",
    "data = loader.load_file(\"weather.nominal.arff\")\n",
    "data.class_is_last()"
   ]
  },
  {
   "cell_type": "markdown",
   "metadata": {},
   "source": [
    "### 1.1) \\#Instances &  \\#Attributes"
   ]
  },
  {
   "cell_type": "code",
   "execution_count": 3,
   "metadata": {},
   "outputs": [
    {
     "data": {
      "text/plain": [
       "14"
      ]
     },
     "execution_count": 3,
     "metadata": {},
     "output_type": "execute_result"
    }
   ],
   "source": [
    "data.num_instances"
   ]
  },
  {
   "cell_type": "code",
   "execution_count": 4,
   "metadata": {},
   "outputs": [
    {
     "data": {
      "text/plain": [
       "5"
      ]
     },
     "execution_count": 4,
     "metadata": {},
     "output_type": "execute_result"
    }
   ],
   "source": [
    "data.num_attributes"
   ]
  },
  {
   "cell_type": "markdown",
   "metadata": {},
   "source": [
    "**Answer**: There are 14 instances and 5 attributes in this dataset"
   ]
  },
  {
   "cell_type": "markdown",
   "metadata": {},
   "source": [
    "### 1.2) \\#Distinct `temperature` Label"
   ]
  },
  {
   "cell_type": "code",
   "execution_count": 5,
   "metadata": {},
   "outputs": [
    {
     "data": {
      "text/plain": [
       "@attribute temperature {hot,mild,cool}"
      ]
     },
     "execution_count": 5,
     "metadata": {},
     "output_type": "execute_result"
    }
   ],
   "source": [
    "data.attribute(1)"
   ]
  },
  {
   "cell_type": "code",
   "execution_count": 6,
   "metadata": {},
   "outputs": [
    {
     "data": {
      "text/plain": [
       "Type  Nom  Int Real     Missing      Unique  Dist  C[0] C[1] C[2]\n",
       " Nom 100%   0%   0%     0 /  0%     0 /  0%     3     4    6    4"
      ]
     },
     "execution_count": 6,
     "metadata": {},
     "output_type": "execute_result"
    }
   ],
   "source": [
    "data.attribute_stats(1)"
   ]
  },
  {
   "cell_type": "markdown",
   "metadata": {},
   "source": [
    "**Answer**: There are 3 distinct labels for the `temperature` attribute: hot, mild and cool"
   ]
  },
  {
   "cell_type": "markdown",
   "metadata": {},
   "source": [
    "### 1.3) RemoveWithValues Filter"
   ]
  },
  {
   "cell_type": "code",
   "execution_count": 7,
   "metadata": {},
   "outputs": [
    {
     "data": {
      "text/plain": [
       "@relation weather.symbolic-weka.filters.unsupervised.instance.RemoveWithValues-S0.0-C3-L1\n",
       "\n",
       "@attribute outlook {sunny,overcast,rainy}\n",
       "@attribute temperature {hot,mild,cool}\n",
       "@attribute humidity {high,normal}\n",
       "@attribute windy {TRUE,FALSE}\n",
       "@attribute play {yes,no}\n",
       "\n",
       "@data\n",
       "rainy,cool,normal,FALSE,yes\n",
       "rainy,cool,normal,TRUE,no\n",
       "overcast,cool,normal,TRUE,yes\n",
       "sunny,cool,normal,FALSE,yes\n",
       "rainy,mild,normal,FALSE,yes\n",
       "sunny,mild,normal,TRUE,yes\n",
       "overcast,hot,normal,FALSE,yes"
      ]
     },
     "execution_count": 7,
     "metadata": {},
     "output_type": "execute_result"
    }
   ],
   "source": [
    "from weka.filters import Filter\n",
    "remove = Filter(classname=\"weka.filters.unsupervised.instance.RemoveWithValues\", \n",
    "                 options=[\"-S\", \"0.0\", \"-C\", \"3\", \"-L\", \"1\"])\n",
    "remove.inputformat(data) \n",
    "filtered = remove.filter(data)\n",
    "filtered"
   ]
  },
  {
   "cell_type": "markdown",
   "metadata": {},
   "source": [
    "### 1.4) J48 Decision Tree"
   ]
  },
  {
   "cell_type": "code",
   "execution_count": 8,
   "metadata": {},
   "outputs": [],
   "source": [
    "from weka.classifiers import Classifier, Evaluation\n",
    "cls = Classifier(classname=\"weka.classifiers.trees.J48\", \n",
    "                 options=[\"-C\", \"0.3\"])\n",
    "cls.build_classifier(data)"
   ]
  },
  {
   "cell_type": "code",
   "execution_count": 9,
   "metadata": {},
   "outputs": [
    {
     "name": "stdout",
     "output_type": "stream",
     "text": [
      "1:\tlabel index = 1.0,\tdata = sunny,hot,high,FALSE,no\n",
      "2:\tlabel index = 1.0,\tdata = sunny,hot,high,TRUE,no\n",
      "3:\tlabel index = 0.0,\tdata = overcast,hot,high,FALSE,yes\n",
      "4:\tlabel index = 0.0,\tdata = rainy,mild,high,FALSE,yes\n",
      "5:\tlabel index = 0.0,\tdata = rainy,cool,normal,FALSE,yes\n",
      "6:\tlabel index = 1.0,\tdata = rainy,cool,normal,TRUE,no\n",
      "7:\tlabel index = 0.0,\tdata = overcast,cool,normal,TRUE,yes\n",
      "8:\tlabel index = 1.0,\tdata = sunny,mild,high,FALSE,no\n",
      "9:\tlabel index = 0.0,\tdata = sunny,cool,normal,FALSE,yes\n",
      "10:\tlabel index = 0.0,\tdata = rainy,mild,normal,FALSE,yes\n",
      "11:\tlabel index = 0.0,\tdata = sunny,mild,normal,TRUE,yes\n",
      "12:\tlabel index = 0.0,\tdata = overcast,mild,high,TRUE,yes\n",
      "13:\tlabel index = 0.0,\tdata = overcast,hot,normal,FALSE,yes\n",
      "14:\tlabel index = 1.0,\tdata = rainy,mild,high,TRUE,no\n"
     ]
    }
   ],
   "source": [
    " for index, inst in enumerate(data):\n",
    "    pred = cls.classify_instance(inst)\n",
    "    dist = cls.distribution_for_instance(inst)\n",
    "    print(str(index+1) + \":\\tlabel index = \" + str(pred) + \",\\tdata = \"+str(inst))"
   ]
  },
  {
   "cell_type": "code",
   "execution_count": 10,
   "metadata": {},
   "outputs": [
    {
     "data": {
      "image/svg+xml": [
       "<?xml version=\"1.0\" encoding=\"UTF-8\" standalone=\"no\"?>\n",
       "<!DOCTYPE svg PUBLIC \"-//W3C//DTD SVG 1.1//EN\"\n",
       " \"http://www.w3.org/Graphics/SVG/1.1/DTD/svg11.dtd\">\n",
       "<!-- Generated by graphviz version 2.42.3 (20191010.1750)\n",
       " -->\n",
       "<!-- Title: J48Tree Pages: 1 -->\n",
       "<svg width=\"343pt\" height=\"216pt\"\n",
       " viewBox=\"0.00 0.00 343.31 216.00\" xmlns=\"http://www.w3.org/2000/svg\" xmlns:xlink=\"http://www.w3.org/1999/xlink\">\n",
       "<g id=\"graph0\" class=\"graph\" transform=\"scale(1 1) rotate(0) translate(4 212)\">\n",
       "<title>J48Tree</title>\n",
       "<polygon fill=\"white\" stroke=\"transparent\" points=\"-4,4 -4,-212 339.31,-212 339.31,4 -4,4\"/>\n",
       "<!-- N0 -->\n",
       "<g id=\"node1\" class=\"node\">\n",
       "<title>N0</title>\n",
       "<ellipse fill=\"none\" stroke=\"black\" cx=\"156.16\" cy=\"-190\" rx=\"37.26\" ry=\"18\"/>\n",
       "<text text-anchor=\"middle\" x=\"156.16\" y=\"-185.8\" font-family=\"Times,serif\" font-size=\"14.00\">outlook</text>\n",
       "</g>\n",
       "<!-- N1 -->\n",
       "<g id=\"node2\" class=\"node\">\n",
       "<title>N1</title>\n",
       "<ellipse fill=\"none\" stroke=\"black\" cx=\"63.16\" cy=\"-104\" rx=\"42.09\" ry=\"18\"/>\n",
       "<text text-anchor=\"middle\" x=\"63.16\" y=\"-99.8\" font-family=\"Times,serif\" font-size=\"14.00\">humidity</text>\n",
       "</g>\n",
       "<!-- N0&#45;&gt;N1 -->\n",
       "<g id=\"edge1\" class=\"edge\">\n",
       "<title>N0&#45;&gt;N1</title>\n",
       "<path fill=\"none\" stroke=\"black\" d=\"M134.48,-174.96C125.72,-168.91 115.72,-161.51 107.32,-154 98.78,-146.36 90.17,-137.21 82.85,-128.9\"/>\n",
       "<polygon fill=\"black\" stroke=\"black\" points=\"85.45,-126.55 76.27,-121.26 80.15,-131.12 85.45,-126.55\"/>\n",
       "<text text-anchor=\"middle\" x=\"130.58\" y=\"-142.8\" font-family=\"Times,serif\" font-size=\"14.00\">= sunny</text>\n",
       "</g>\n",
       "<!-- N4 -->\n",
       "<g id=\"node5\" class=\"node\">\n",
       "<title>N4</title>\n",
       "<polygon fill=\"lightgrey\" stroke=\"black\" points=\"188.65,-122 123.68,-122 123.68,-86 188.65,-86 188.65,-122\"/>\n",
       "<text text-anchor=\"middle\" x=\"156.16\" y=\"-99.8\" font-family=\"Times,serif\" font-size=\"14.00\">yes (4.0)</text>\n",
       "</g>\n",
       "<!-- N0&#45;&gt;N4 -->\n",
       "<g id=\"edge4\" class=\"edge\">\n",
       "<title>N0&#45;&gt;N4</title>\n",
       "<path fill=\"none\" stroke=\"black\" d=\"M156.16,-171.6C156.16,-160.26 156.16,-145.23 156.16,-132.32\"/>\n",
       "<polygon fill=\"black\" stroke=\"black\" points=\"159.66,-132.1 156.16,-122.1 152.66,-132.1 159.66,-132.1\"/>\n",
       "<text text-anchor=\"middle\" x=\"185.18\" y=\"-142.8\" font-family=\"Times,serif\" font-size=\"14.00\">= overcast</text>\n",
       "</g>\n",
       "<!-- N5 -->\n",
       "<g id=\"node6\" class=\"node\">\n",
       "<title>N5</title>\n",
       "<ellipse fill=\"none\" stroke=\"black\" cx=\"239.16\" cy=\"-104\" rx=\"32.43\" ry=\"18\"/>\n",
       "<text text-anchor=\"middle\" x=\"239.16\" y=\"-99.8\" font-family=\"Times,serif\" font-size=\"14.00\">windy</text>\n",
       "</g>\n",
       "<!-- N0&#45;&gt;N5 -->\n",
       "<g id=\"edge5\" class=\"edge\">\n",
       "<title>N0&#45;&gt;N5</title>\n",
       "<path fill=\"none\" stroke=\"black\" d=\"M183.41,-177.54C194.65,-171.77 207.13,-163.88 216.16,-154 222.11,-147.49 226.79,-139.17 230.33,-131.24\"/>\n",
       "<polygon fill=\"black\" stroke=\"black\" points=\"233.6,-132.49 234.09,-121.91 227.11,-129.88 233.6,-132.49\"/>\n",
       "<text text-anchor=\"middle\" x=\"245.24\" y=\"-142.8\" font-family=\"Times,serif\" font-size=\"14.00\">= rainy</text>\n",
       "</g>\n",
       "<!-- N2 -->\n",
       "<g id=\"node3\" class=\"node\">\n",
       "<title>N2</title>\n",
       "<polygon fill=\"lightgrey\" stroke=\"black\" points=\"60.49,-36 -0.16,-36 -0.16,0 60.49,0 60.49,-36\"/>\n",
       "<text text-anchor=\"middle\" x=\"30.16\" y=\"-13.8\" font-family=\"Times,serif\" font-size=\"14.00\">no (3.0)</text>\n",
       "</g>\n",
       "<!-- N1&#45;&gt;N2 -->\n",
       "<g id=\"edge2\" class=\"edge\">\n",
       "<title>N1&#45;&gt;N2</title>\n",
       "<path fill=\"none\" stroke=\"black\" d=\"M56.48,-86C51.95,-74.46 45.86,-58.97 40.69,-45.79\"/>\n",
       "<polygon fill=\"black\" stroke=\"black\" points=\"43.86,-44.29 36.94,-36.26 37.34,-46.85 43.86,-44.29\"/>\n",
       "<text text-anchor=\"middle\" x=\"67.3\" y=\"-56.8\" font-family=\"Times,serif\" font-size=\"14.00\">= high</text>\n",
       "</g>\n",
       "<!-- N3 -->\n",
       "<g id=\"node4\" class=\"node\">\n",
       "<title>N3</title>\n",
       "<polygon fill=\"lightgrey\" stroke=\"black\" points=\"143.65,-36 78.68,-36 78.68,0 143.65,0 143.65,-36\"/>\n",
       "<text text-anchor=\"middle\" x=\"111.16\" y=\"-13.8\" font-family=\"Times,serif\" font-size=\"14.00\">yes (2.0)</text>\n",
       "</g>\n",
       "<!-- N1&#45;&gt;N3 -->\n",
       "<g id=\"edge3\" class=\"edge\">\n",
       "<title>N1&#45;&gt;N3</title>\n",
       "<path fill=\"none\" stroke=\"black\" d=\"M76.36,-86.77C80.72,-81.03 85.41,-74.4 89.16,-68 93.25,-61.03 97.09,-53.17 100.38,-45.82\"/>\n",
       "<polygon fill=\"black\" stroke=\"black\" points=\"103.77,-46.8 104.5,-36.23 97.34,-44.04 103.77,-46.8\"/>\n",
       "<text text-anchor=\"middle\" x=\"121.69\" y=\"-56.8\" font-family=\"Times,serif\" font-size=\"14.00\">= normal</text>\n",
       "</g>\n",
       "<!-- N6 -->\n",
       "<g id=\"node7\" class=\"node\">\n",
       "<title>N6</title>\n",
       "<polygon fill=\"lightgrey\" stroke=\"black\" points=\"245.49,-36 184.84,-36 184.84,0 245.49,0 245.49,-36\"/>\n",
       "<text text-anchor=\"middle\" x=\"215.16\" y=\"-13.8\" font-family=\"Times,serif\" font-size=\"14.00\">no (2.0)</text>\n",
       "</g>\n",
       "<!-- N5&#45;&gt;N6 -->\n",
       "<g id=\"edge6\" class=\"edge\">\n",
       "<title>N5&#45;&gt;N6</title>\n",
       "<path fill=\"none\" stroke=\"black\" d=\"M232.54,-86.05C230.45,-80.36 228.22,-73.95 226.46,-68 224.4,-61.02 222.48,-53.4 220.84,-46.29\"/>\n",
       "<polygon fill=\"black\" stroke=\"black\" points=\"224.22,-45.37 218.63,-36.37 217.38,-46.89 224.22,-45.37\"/>\n",
       "<text text-anchor=\"middle\" x=\"250.01\" y=\"-56.8\" font-family=\"Times,serif\" font-size=\"14.00\">= TRUE</text>\n",
       "</g>\n",
       "<!-- N7 -->\n",
       "<g id=\"node8\" class=\"node\">\n",
       "<title>N7</title>\n",
       "<polygon fill=\"lightgrey\" stroke=\"black\" points=\"328.65,-36 263.68,-36 263.68,0 328.65,0 328.65,-36\"/>\n",
       "<text text-anchor=\"middle\" x=\"296.16\" y=\"-13.8\" font-family=\"Times,serif\" font-size=\"14.00\">yes (3.0)</text>\n",
       "</g>\n",
       "<!-- N5&#45;&gt;N7 -->\n",
       "<g id=\"edge7\" class=\"edge\">\n",
       "<title>N5&#45;&gt;N7</title>\n",
       "<path fill=\"none\" stroke=\"black\" d=\"M256.16,-88.42C262.36,-82.51 269.09,-75.36 274.16,-68 278.93,-61.09 283.06,-52.98 286.42,-45.37\"/>\n",
       "<polygon fill=\"black\" stroke=\"black\" points=\"289.65,-46.71 290.24,-36.13 283.19,-44.03 289.65,-46.71\"/>\n",
       "<text text-anchor=\"middle\" x=\"308.74\" y=\"-56.8\" font-family=\"Times,serif\" font-size=\"14.00\">= FALSE</text>\n",
       "</g>\n",
       "</g>\n",
       "</svg>\n"
      ],
      "text/plain": [
       "<graphviz.files.Source at 0x13036be80>"
      ]
     },
     "execution_count": 10,
     "metadata": {},
     "output_type": "execute_result"
    }
   ],
   "source": [
    "import graphviz\n",
    "graph = graphviz.Source(cls.graph)\n",
    "graph"
   ]
  },
  {
   "cell_type": "markdown",
   "metadata": {},
   "source": [
    "### 1.5) Performance Analysis"
   ]
  },
  {
   "cell_type": "code",
   "execution_count": 11,
   "metadata": {},
   "outputs": [
    {
     "name": "stdout",
     "output_type": "stream",
     "text": [
      "\n",
      "Correctly Classified Instances          14              100      %\n",
      "Incorrectly Classified Instances         0                0      %\n",
      "Kappa statistic                          1     \n",
      "Mean absolute error                      0     \n",
      "Root mean squared error                  0     \n",
      "Relative absolute error                  0      %\n",
      "Root relative squared error              0      %\n",
      "Total Number of Instances               14     \n",
      "\n",
      "=== Detailed Accuracy By Class ===\n",
      "\n",
      "                 TP Rate  FP Rate  Precision  Recall   F-Measure  MCC      ROC Area  PRC Area  Class\n",
      "                 1.000    0.000    1.000      1.000    1.000      1.000    1.000     1.000     yes\n",
      "                 1.000    0.000    1.000      1.000    1.000      1.000    1.000     1.000     no\n",
      "Weighted Avg.    1.000    0.000    1.000      1.000    1.000      1.000    1.000     1.000     \n",
      "\n",
      "=== Confusion Matrix ===\n",
      "\n",
      " a b   <-- classified as\n",
      " 9 0 | a = yes\n",
      " 0 5 | b = no\n",
      "\n"
     ]
    }
   ],
   "source": [
    "evaluation = Evaluation(data)\n",
    "evl = evaluation.test_model(cls, data)\n",
    "print(evaluation.summary())\n",
    "print(evaluation.class_details())\n",
    "print(evaluation.matrix())"
   ]
  },
  {
   "cell_type": "markdown",
   "metadata": {},
   "source": [
    "## \\#Problem 2 `HR-Employee-Attrition.csv`"
   ]
  },
  {
   "cell_type": "code",
   "execution_count": 12,
   "metadata": {},
   "outputs": [],
   "source": [
    "from weka.core.converters import Loader\n",
    "loader = Loader(classname=\"weka.core.converters.CSVLoader\")\n",
    "data = loader.load_file(\"HR-Employee-Attrition.csv\")\n",
    "data.class_index =1"
   ]
  },
  {
   "cell_type": "markdown",
   "metadata": {},
   "source": [
    "### 2.1) Attribute Selection"
   ]
  },
  {
   "cell_type": "code",
   "execution_count": 13,
   "metadata": {},
   "outputs": [
    {
     "name": "stdout",
     "output_type": "stream",
     "text": [
      "Relation Name:  HR-Employee-Attrition-weka.filters.supervised.attribute.AttributeSelection-Eweka.attributeSelection.CfsSubsetEval -P 1 -E 1-Sweka.attributeSelection.BestFirst -D 1 -N 5\n",
      "Num Instances:  1470\n",
      "Num Attributes: 13\n",
      "\n",
      "     Name                      Type  Nom  Int Real     Missing      Unique  Dist\n",
      " 1 ﻿Age                       Num   0% 100%   0%     0 /  0%     0 /  0%    43 \n",
      " 2 BusinessTravel             Nom 100%   0%   0%     0 /  0%     0 /  0%     3 \n",
      " 3 EnvironmentSatisfaction    Num   0% 100%   0%     0 /  0%     0 /  0%     4 \n",
      " 4 JobInvolvement             Num   0% 100%   0%     0 /  0%     0 /  0%     4 \n",
      " 5 JobLevel                   Num   0% 100%   0%     0 /  0%     0 /  0%     5 \n",
      " 6 MonthlyIncome              Num   0% 100%   0%     0 /  0%  1240 / 84%  1349 \n",
      " 7 OverTime                   Nom 100%   0%   0%     0 /  0%     0 /  0%     2 \n",
      " 8 StockOptionLevel           Num   0% 100%   0%     0 /  0%     0 /  0%     4 \n",
      " 9 TotalWorkingYears          Num   0% 100%   0%     0 /  0%     1 /  0%    40 \n",
      "10 WorkLifeBalance            Num   0% 100%   0%     0 /  0%     0 /  0%     4 \n",
      "11 YearsAtCompany             Num   0% 100%   0%     0 /  0%     4 /  0%    37 \n",
      "12 YearsWithCurrManager       Num   0% 100%   0%     0 /  0%     0 /  0%    18 \n",
      "13 Attrition                  Nom 100%   0%   0%     0 /  0%     0 /  0%     2 \n",
      "\n"
     ]
    }
   ],
   "source": [
    "from weka.filters import Filter\n",
    "from weka.attribute_selection import ASSearch, ASEvaluation\n",
    "\n",
    "flter = Filter(classname=\"weka.filters.supervised.attribute.AttributeSelection\")\n",
    "aseval = ASEvaluation(classname=\"weka.attributeSelection.CfsSubsetEval\", \n",
    "                      options=[\"-P\", \"1\", \"-E\", \"1\"])\n",
    "assearch = ASSearch(classname=\"weka.attributeSelection.BestFirst\", \n",
    "                    options=[\"-D\", \"1\", \"-N\", \"5\"])\n",
    "flter.set_property(\"evaluator\", aseval.jobject)\n",
    "flter.set_property(\"search\", assearch.jobject)\n",
    "flter.inputformat(data)\n",
    "filtered = flter.filter(data)\n",
    "print(filtered.summary(filtered))"
   ]
  },
  {
   "cell_type": "markdown",
   "metadata": {},
   "source": [
    "**Answer**: \n",
    "utilize the `BestFirst` method to select the best subset of attributes. As listed above, 12 attributes have been selected to classify Attrition."
   ]
  },
  {
   "cell_type": "markdown",
   "metadata": {},
   "source": [
    "### 2.2) Classification "
   ]
  },
  {
   "cell_type": "code",
   "execution_count": 14,
   "metadata": {},
   "outputs": [],
   "source": [
    "from weka.classifiers import Classifier, Evaluation"
   ]
  },
  {
   "cell_type": "markdown",
   "metadata": {},
   "source": [
    "#### 2.2.i) J48 Tree"
   ]
  },
  {
   "cell_type": "code",
   "execution_count": 15,
   "metadata": {},
   "outputs": [
    {
     "name": "stdout",
     "output_type": "stream",
     "text": [
      "\n",
      "Correctly Classified Instances        1343               91.3605 %\n",
      "Incorrectly Classified Instances       127                8.6395 %\n",
      "Kappa statistic                          0.6126\n",
      "Mean absolute error                      0.152 \n",
      "Root mean squared error                  0.2757\n",
      "Relative absolute error                 56.1412 %\n",
      "Root relative squared error             74.9706 %\n",
      "Total Number of Instances             1470     \n",
      "\n",
      "=== Detailed Accuracy By Class ===\n",
      "\n",
      "                 TP Rate  FP Rate  Precision  Recall   F-Measure  MCC      ROC Area  PRC Area  Class\n",
      "                 0.515    0.010    0.910      0.515    0.658      0.645    0.806     0.649     Yes\n",
      "                 0.990    0.485    0.914      0.990    0.951      0.645    0.806     0.933     No\n",
      "Weighted Avg.    0.914    0.409    0.913      0.914    0.903      0.645    0.806     0.887     \n",
      "\n",
      "=== Confusion Matrix ===\n",
      "\n",
      "    a    b   <-- classified as\n",
      "  122  115 |    a = Yes\n",
      "   12 1221 |    b = No\n",
      "\n"
     ]
    }
   ],
   "source": [
    "cls = Classifier(classname=\"weka.classifiers.trees.J48\", \n",
    "                 options=[\"-C\", \"0.3\"])\n",
    "cls.build_classifier(filtered)\n",
    "evaluation = Evaluation(filtered)\n",
    "evl = evaluation.test_model(cls, filtered)\n",
    "print(evaluation.summary())\n",
    "print(evaluation.class_details())\n",
    "print(evaluation.matrix())"
   ]
  },
  {
   "cell_type": "markdown",
   "metadata": {},
   "source": [
    "#### 2.2.ii) Logistic Regression"
   ]
  },
  {
   "cell_type": "code",
   "execution_count": 16,
   "metadata": {},
   "outputs": [
    {
     "name": "stdout",
     "output_type": "stream",
     "text": [
      "\n",
      "Correctly Classified Instances        1268               86.2585 %\n",
      "Incorrectly Classified Instances       202               13.7415 %\n",
      "Kappa statistic                          0.3206\n",
      "Mean absolute error                      0.2142\n",
      "Root mean squared error                  0.3255\n",
      "Relative absolute error                 79.1212 %\n",
      "Root relative squared error             88.5041 %\n",
      "Total Number of Instances             1470     \n",
      "\n",
      "=== Detailed Accuracy By Class ===\n",
      "\n",
      "                 TP Rate  FP Rate  Precision  Recall   F-Measure  MCC      ROC Area  PRC Area  Class\n",
      "                 0.262    0.022    0.697      0.262    0.380      0.370    0.799     0.514     Yes\n",
      "                 0.978    0.738    0.873      0.978    0.923      0.370    0.799     0.943     No\n",
      "Weighted Avg.    0.863    0.623    0.845      0.863    0.835      0.370    0.799     0.874     \n",
      "\n",
      "=== Confusion Matrix ===\n",
      "\n",
      "    a    b   <-- classified as\n",
      "   62  175 |    a = Yes\n",
      "   27 1206 |    b = No\n",
      "\n"
     ]
    }
   ],
   "source": [
    "cls = Classifier(classname=\"weka.classifiers.functions.Logistic\", \n",
    "                 options=[\"-R\", \"1.0E-8\", \"-M\", \"-1\", \"-num-decimal-places\", \"4\"])\n",
    "cls.build_classifier(filtered)\n",
    "evaluation = Evaluation(filtered)\n",
    "evl = evaluation.test_model(cls, filtered)\n",
    "print(evaluation.summary())\n",
    "print(evaluation.class_details())\n",
    "print(evaluation.matrix())"
   ]
  },
  {
   "cell_type": "markdown",
   "metadata": {},
   "source": [
    "#### 2.2.iii) Random Forest"
   ]
  },
  {
   "cell_type": "code",
   "execution_count": 17,
   "metadata": {},
   "outputs": [
    {
     "name": "stdout",
     "output_type": "stream",
     "text": [
      "\n",
      "Correctly Classified Instances        1470              100      %\n",
      "Incorrectly Classified Instances         0                0      %\n",
      "Kappa statistic                          1     \n",
      "Mean absolute error                      0.0798\n",
      "Root mean squared error                  0.1244\n",
      "Relative absolute error                 29.4683 %\n",
      "Root relative squared error             33.817  %\n",
      "Total Number of Instances             1470     \n",
      "\n",
      "=== Detailed Accuracy By Class ===\n",
      "\n",
      "                 TP Rate  FP Rate  Precision  Recall   F-Measure  MCC      ROC Area  PRC Area  Class\n",
      "                 1.000    0.000    1.000      1.000    1.000      1.000    1.000     1.000     Yes\n",
      "                 1.000    0.000    1.000      1.000    1.000      1.000    1.000     1.000     No\n",
      "Weighted Avg.    1.000    0.000    1.000      1.000    1.000      1.000    1.000     1.000     \n",
      "\n",
      "=== Confusion Matrix ===\n",
      "\n",
      "    a    b   <-- classified as\n",
      "  237    0 |    a = Yes\n",
      "    0 1233 |    b = No\n",
      "\n"
     ]
    }
   ],
   "source": [
    "cls = Classifier(classname=\"weka.classifiers.trees.RandomForest\", \n",
    "                 options=[\"-P\", \"100\", \"-I\", \"100\", \"-num-slots\", \"1\", \"-K\", \"0\", \"-M\", \"1.0\", \"-V\", \"0.001\", \"-S\", \"1\"])\n",
    "cls.build_classifier(filtered)\n",
    "evaluation = Evaluation(filtered)\n",
    "evl = evaluation.test_model(cls, filtered)\n",
    "print(evaluation.summary())\n",
    "print(evaluation.class_details())\n",
    "print(evaluation.matrix())"
   ]
  },
  {
   "cell_type": "markdown",
   "metadata": {},
   "source": [
    "**Answer**: By comparing the classifiers J48, Logistic and Random Forest, it seems that the Random Forest achieves the best performance in the training set. Random Forest Classifier is chosen because it is more flexible than the Logistic Classifier while the Randomness in the model can reduce the overfitting problem comparing to the J48 Classifier."
   ]
  },
  {
   "cell_type": "markdown",
   "metadata": {},
   "source": [
    "### 2.3) test options"
   ]
  },
  {
   "cell_type": "markdown",
   "metadata": {},
   "source": [
    "#### 2.3.i) cross-validation "
   ]
  },
  {
   "cell_type": "code",
   "execution_count": 18,
   "metadata": {},
   "outputs": [
    {
     "name": "stdout",
     "output_type": "stream",
     "text": [
      "\n",
      "Correctly Classified Instances        2726               92.7211 %\n",
      "Incorrectly Classified Instances       214                7.2789 %\n",
      "Kappa statistic                          0.695 \n",
      "Mean absolute error                      0.1481\n",
      "Root mean squared error                  0.2517\n",
      "Relative absolute error                 54.7046 %\n",
      "Root relative squared error             68.4538 %\n",
      "Total Number of Instances             2940     \n",
      "\n",
      "=== Detailed Accuracy By Class ===\n",
      "\n",
      "                 TP Rate  FP Rate  Precision  Recall   F-Measure  MCC      ROC Area  PRC Area  Class\n",
      "                 0.629    0.015    0.887      0.629    0.736      0.709    0.913     0.811     Yes\n",
      "                 0.985    0.371    0.932      0.985    0.958      0.709    0.913     0.973     No\n",
      "Weighted Avg.    0.927    0.314    0.925      0.927    0.922      0.709    0.913     0.947     \n",
      "\n",
      "=== Confusion Matrix ===\n",
      "\n",
      "    a    b   <-- classified as\n",
      "  298  176 |    a = Yes\n",
      "   38 2428 |    b = No\n",
      "\n"
     ]
    }
   ],
   "source": [
    "from weka.core.classes import Random\n",
    "evl = evaluation.crossvalidate_model(cls, filtered, 10,Random(1))\n",
    "print(evaluation.summary())\n",
    "print(evaluation.class_details())\n",
    "print(evaluation.matrix())"
   ]
  },
  {
   "cell_type": "markdown",
   "metadata": {},
   "source": [
    "#### 2.3.ii) pecentage split"
   ]
  },
  {
   "cell_type": "code",
   "execution_count": 19,
   "metadata": {},
   "outputs": [
    {
     "name": "stdout",
     "output_type": "stream",
     "text": [
      "\n",
      "Correctly Classified Instances        3949               89.75   %\n",
      "Incorrectly Classified Instances       451               10.25   %\n",
      "Kappa statistic                          0.5193\n",
      "Mean absolute error                      0.1587\n",
      "Root mean squared error                  0.3085\n",
      "Relative absolute error                 58.5797 %\n",
      "Root relative squared error             83.8555 %\n",
      "Total Number of Instances             4400     \n",
      "\n",
      "=== Detailed Accuracy By Class ===\n",
      "\n",
      "                 TP Rate  FP Rate  Precision  Recall   F-Measure  MCC      ROC Area  PRC Area  Class\n",
      "                 0.420    0.011    0.884      0.420    0.569      0.566    0.720     0.602     Yes\n",
      "                 0.989    0.580    0.899      0.989    0.942      0.566    0.720     0.898     No\n",
      "Weighted Avg.    0.898    0.488    0.896      0.898    0.882      0.566    0.720     0.850     \n",
      "\n",
      "=== Confusion Matrix ===\n",
      "\n",
      "    a    b   <-- classified as\n",
      "  298  412 |    a = Yes\n",
      "   39 3651 |    b = No\n",
      "\n"
     ]
    }
   ],
   "source": [
    "from weka.core.classes import Random\n",
    "evl = evaluation.evaluate_train_test_split(cls, filtered, 0.7,Random(1))\n",
    "print(evaluation.summary())\n",
    "print(evaluation.class_details())\n",
    "print(evaluation.matrix())"
   ]
  },
  {
   "cell_type": "markdown",
   "metadata": {},
   "source": [
    "**Answer**: Cross-validation evaluator is the best because percentage split only use a subset of observations to fit the model. By averaging over different folds, cross valication approach provides better estimation for the test error and hence, gives better model."
   ]
  },
  {
   "cell_type": "markdown",
   "metadata": {},
   "source": [
    "***\n",
    "## The End"
   ]
  },
  {
   "cell_type": "code",
   "execution_count": 20,
   "metadata": {},
   "outputs": [],
   "source": [
    "jvm.stop()"
   ]
  }
 ],
 "metadata": {
  "kernelspec": {
   "display_name": "Python 3",
   "language": "python",
   "name": "python3"
  },
  "language_info": {
   "codemirror_mode": {
    "name": "ipython",
    "version": 3
   },
   "file_extension": ".py",
   "mimetype": "text/x-python",
   "name": "python",
   "nbconvert_exporter": "python",
   "pygments_lexer": "ipython3",
   "version": "3.6.10"
  },
  "latex_envs": {
   "LaTeX_envs_menu_present": true,
   "autoclose": true,
   "autocomplete": true,
   "bibliofile": "biblio.bib",
   "cite_by": "apalike",
   "current_citInitial": 1,
   "eqLabelWithNumbers": true,
   "eqNumInitial": 1,
   "hotkeys": {
    "equation": "Ctrl-E",
    "itemize": "Ctrl-I"
   },
   "labels_anchors": false,
   "latex_user_defs": false,
   "report_style_numbering": false,
   "user_envs_cfg": false
  }
 },
 "nbformat": 4,
 "nbformat_minor": 4
}
